{
 "cells": [
  {
   "cell_type": "code",
   "execution_count": 16,
   "id": "tight-egypt",
   "metadata": {},
   "outputs": [],
   "source": [
    "from pymatgen import Structure\n",
    "from pymatgen.symmetry.analyzer import SpacegroupAnalyzer, PointGroupAnalyzer\n",
    "from jupyter_jsmol.pymatgen import quick_view\n",
    "from pymatgen.ext.matproj import MPRester\n",
    "import math"
   ]
  },
  {
   "cell_type": "code",
   "execution_count": 17,
   "id": "distinct-going",
   "metadata": {},
   "outputs": [
    {
     "data": {
      "application/vnd.jupyter.widget-view+json": {
       "model_id": "12fc461c336d4da3803b3066b5579f48",
       "version_major": 2,
       "version_minor": 0
      },
      "text/plain": [
       "JsmolView(layout=Layout(align_self='stretch', height='400px'))"
      ]
     },
     "metadata": {},
     "output_type": "display_data"
    }
   ],
   "source": [
    "with MPRester(\"iLIbKv6XbyJaj3FOZJZ6\") as m:\n",
    "    # Structure for material id\n",
    "    struct = m.get_structure_by_material_id(\"mp-165\")\n",
    "    \n",
    "    # Visualization\n",
    "    view = quick_view(struct)\n",
    "    display(view)"
   ]
  },
  {
   "cell_type": "code",
   "execution_count": 18,
   "id": "adapted-argument",
   "metadata": {},
   "outputs": [
    {
     "name": "stdout",
     "output_type": "stream",
     "text": [
      "Vecteurs de base du réseau direct :\n",
      "a = [3.85048180,0,0] Å\n",
      "b = [0,3.85048180,0] Å\n",
      "c = [0,0,6.36568600] Å\n",
      "\n",
      "Vecteurs de base du réseau réciproque :\n",
      "a = [0.6128232117553787,0,0] Å\n",
      "b = [0,0.6128232117553787,0] Å\n",
      "c = [0,0,1.0131303930708748] Å\n"
     ]
    }
   ],
   "source": [
    "# Vecteurs de bases des ses réseaux direct et réciproque\n",
    "cif = m.query(criteria = {\"task_id\":\"mp-165\"}, properties = [\"cif\"])[0].get(\"cif\").splitlines()\n",
    "\n",
    "a = cif[3][17:]\n",
    "b = cif[4][17:]\n",
    "c = cif[5][17:]\n",
    "\n",
    "a_ = float(a)/(2*math.pi)\n",
    "b_ = float(b)/(2*math.pi)\n",
    "c_ = float(c)/(2*math.pi)\n",
    "\n",
    "res_dir = \"Vecteurs de base du réseau direct :\\na = \" + \"[{0},0,0]\".format(a) + \" Å\\n\" + \"b = \" + \"[0,{0},0]\".format(b) + \" Å\\n\"+ \"c = \" +\"[0,0,{0}]\".format(c) + \" Å\"\n",
    "res_rec = \"\\nVecteurs de base du réseau réciproque :\\na = \" + \"[{0},0,0]\".format(a_) + \" Å\\n\" + \"b = \" + \"[0,{0},0]\".format(b_) + \" Å\\n\"+ \"c = \" +\"[0,0,{0}]\".format(c_) + \" Å\"\n",
    "print(res_dir)\n",
    "print(res_rec)"
   ]
  },
  {
   "cell_type": "code",
   "execution_count": 19,
   "id": "variable-interview",
   "metadata": {},
   "outputs": [
    {
     "name": "stdout",
     "output_type": "stream",
     "text": [
      "Type de maille : primitive\n"
     ]
    }
   ],
   "source": [
    "# Type de maille\n",
    "data = m.get_data(\"mp-165\", data_type='vasp', prop='')\n",
    "type_maille = {'P': 'primitive', 'I' : 'centrée', 'C' : 'Deux faces centrées', 'F' : 'Faces centrées' }\n",
    "space = data[0].get(\"spacegroup\")\n",
    "symb = space.get(\"symbol\") \n",
    "maille = \"Type de maille : \" + type_maille.get(symbole[0])\n",
    "print(maille)"
   ]
  },
  {
   "cell_type": "code",
   "execution_count": 20,
   "id": "introductory-turning",
   "metadata": {},
   "outputs": [
    {
     "name": "stdout",
     "output_type": "stream",
     "text": [
      "Système cristallin : hexagonal\n"
     ]
    }
   ],
   "source": [
    "# Système cristallin\n",
    "syst = \"Système cristallin : \" + space.get(\"crystal_system\")\n",
    "print(syst)"
   ]
  },
  {
   "cell_type": "code",
   "execution_count": 21,
   "id": "periodic-injection",
   "metadata": {},
   "outputs": [
    {
     "name": "stdout",
     "output_type": "stream",
     "text": [
      "Groupe ponctuel : 6/mmm\n"
     ]
    }
   ],
   "source": [
    "# Groupe ponctuel\n",
    "ponctual = \"Groupe ponctuel : \" + space.get(\"point_group\")\n",
    "print(ponctual)"
   ]
  },
  {
   "cell_type": "code",
   "execution_count": null,
   "id": "surrounded-caribbean",
   "metadata": {},
   "outputs": [],
   "source": []
  }
 ],
 "metadata": {
  "kernelspec": {
   "display_name": "Python 3",
   "language": "python",
   "name": "python3"
  },
  "language_info": {
   "codemirror_mode": {
    "name": "ipython",
    "version": 3
   },
   "file_extension": ".py",
   "mimetype": "text/x-python",
   "name": "python",
   "nbconvert_exporter": "python",
   "pygments_lexer": "ipython3",
   "version": "3.6.8"
  }
 },
 "nbformat": 4,
 "nbformat_minor": 5
}
