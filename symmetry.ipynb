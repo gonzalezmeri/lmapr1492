{
 "cells": [
  {
   "cell_type": "code",
   "execution_count": 50,
   "id": "prostate-subcommittee",
   "metadata": {},
   "outputs": [],
   "source": [
    "from pymatgen import Structure\n",
    "from pymatgen.symmetry.analyzer import SpacegroupAnalyzer, PointGroupAnalyzer\n",
    "from jupyter_jsmol.pymatgen import quick_view\n",
    "from pymatgen.ext.matproj import MPRester\n",
    "import math\n",
    "#from mantid.geometry import SymmetryOperationFactory, SymmetryElementFactory"
   ]
  },
  {
   "cell_type": "code",
   "execution_count": 51,
   "id": "fewer-granny",
   "metadata": {},
   "outputs": [
    {
     "data": {
      "application/vnd.jupyter.widget-view+json": {
       "model_id": "814da5dc72f8481ca8e9a6ad1170f0f7",
       "version_major": 2,
       "version_minor": 0
      },
      "text/plain": [
       "JsmolView(layout=Layout(align_self='stretch', height='400px'))"
      ]
     },
     "metadata": {},
     "output_type": "display_data"
    }
   ],
   "source": [
    "with MPRester(\"iLIbKv6XbyJaj3FOZJZ6\") as m:\n",
    "    # Structure for material id\n",
    "    struct = m.get_structure_by_material_id(\"mp-165\")\n",
    "    \n",
    "    # Visualization\n",
    "    view = quick_view(struct)\n",
    "    display(view)"
   ]
  },
  {
   "cell_type": "code",
   "execution_count": 55,
   "id": "prescription-conference",
   "metadata": {},
   "outputs": [
    {
     "data": {
      "application/vnd.jupyter.widget-view+json": {
       "model_id": "e1c9a0444d8e4af18b5af7e03ba213d8",
       "version_major": 2,
       "version_minor": 0
      },
      "text/plain": [
       "JsmolView(layout=Layout(align_self='stretch', height='400px'))"
      ]
     },
     "metadata": {},
     "output_type": "display_data"
    },
    {
     "name": "stdout",
     "output_type": "stream",
     "text": [
      "Inversion de centre 0 0 1/4\n",
      "Equations :\n"
     ]
    }
   ],
   "source": [
    "view = quick_view(struct)\n",
    "display(view)\n",
    "view.script(\"draw symop 4 {atomno=1}\")\n",
    "print(\"Inversion de centre 0 0 1/4\")\n",
    "print(\"Equations :\")"
   ]
  },
  {
   "cell_type": "markdown",
   "id": "detailed-board",
   "metadata": {},
   "source": [
    "$$\\begin{bmatrix} -1 & 1 & 0 \\\\ -1 & 0 & 0 \\\\ 0 & 0 & -1 \\end{bmatrix} \\begin{bmatrix} x \\\\ y \\\\ z \\end{bmatrix} + \\begin{bmatrix} 0 \\\\ 0 \\\\ 1/2 \\end{bmatrix} = \\begin{bmatrix} -x+y \\\\ -x \\\\ -z+1/2 \\end{bmatrix}$$"
   ]
  },
  {
   "cell_type": "code",
   "execution_count": 56,
   "id": "civilian-appeal",
   "metadata": {},
   "outputs": [
    {
     "data": {
      "application/vnd.jupyter.widget-view+json": {
       "model_id": "eb7f6621029d47b1afe9ec787e139f7a",
       "version_major": 2,
       "version_minor": 0
      },
      "text/plain": [
       "JsmolView(layout=Layout(align_self='stretch', height='400px'))"
      ]
     },
     "metadata": {},
     "output_type": "display_data"
    },
    {
     "name": "stdout",
     "output_type": "stream",
     "text": [
      "Rotation d'axe C3\n",
      "Equations :\n"
     ]
    }
   ],
   "source": [
    "view = quick_view(struct)\n",
    "display(view)\n",
    "view.script(\"draw symop 5 {atomno=2}\")\n",
    "print(\"Rotation d'axe C3\")\n",
    "print(\"Equations :\")"
   ]
  },
  {
   "cell_type": "markdown",
   "id": "gentle-respect",
   "metadata": {},
   "source": [
    "$$\\begin{bmatrix} 0 & -1 & 0 \\\\ 1 & -1 & 0 \\\\ 0 & 0 & 1 \\end{bmatrix} \\begin{bmatrix} x \\\\ y \\\\ z \\end{bmatrix} = \\begin{bmatrix} -y \\\\ x-y \\\\ z \\end{bmatrix}$$"
   ]
  },
  {
   "cell_type": "code",
   "execution_count": 58,
   "id": "blessed-array",
   "metadata": {
    "scrolled": false
   },
   "outputs": [
    {
     "data": {
      "application/vnd.jupyter.widget-view+json": {
       "model_id": "d1e4dc3dfe3e428ab441ae90f7dfa19e",
       "version_major": 2,
       "version_minor": 0
      },
      "text/plain": [
       "JsmolView(layout=Layout(align_self='stretch', height='400px'))"
      ]
     },
     "metadata": {},
     "output_type": "display_data"
    },
    {
     "name": "stdout",
     "output_type": "stream",
     "text": [
      "Plan miroir\n",
      "Equations :\n"
     ]
    }
   ],
   "source": [
    "view = quick_view(struct)\n",
    "display(view)\n",
    "view.script(\"draw symop 8 {atomno=3}\")\n",
    "print(\"Plan miroir\")\n",
    "print(\"Equations :\")"
   ]
  },
  {
   "cell_type": "markdown",
   "id": "level-nashville",
   "metadata": {},
   "source": [
    "$$\\begin{bmatrix} 1 & 0 & 0 \\\\ 0 & 1 & 0 \\\\ 0 & 0 & -1 \\end{bmatrix} \\begin{bmatrix} x \\\\ y \\\\ z \\end{bmatrix} + \\begin{bmatrix} 0 \\\\ 0 \\\\ 1/2 \\end{bmatrix} = \\begin{bmatrix} x\\\\ y \\\\ -z+1/2 \\end{bmatrix}$$"
   ]
  }
 ],
 "metadata": {
  "kernelspec": {
   "display_name": "Python 3",
   "language": "python",
   "name": "python3"
  },
  "language_info": {
   "codemirror_mode": {
    "name": "ipython",
    "version": 3
   },
   "file_extension": ".py",
   "mimetype": "text/x-python",
   "name": "python",
   "nbconvert_exporter": "python",
   "pygments_lexer": "ipython3",
   "version": "3.6.8"
  }
 },
 "nbformat": 4,
 "nbformat_minor": 5
}
